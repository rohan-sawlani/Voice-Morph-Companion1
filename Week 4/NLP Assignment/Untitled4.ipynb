{
  "nbformat": 4,
  "nbformat_minor": 0,
  "metadata": {
    "colab": {
      "provenance": []
    },
    "kernelspec": {
      "name": "python3",
      "display_name": "Python 3"
    },
    "language_info": {
      "name": "python"
    }
  },
  "cells": [
    {
      "cell_type": "code",
      "execution_count": 5,
      "metadata": {
        "colab": {
          "base_uri": "https://localhost:8080/"
        },
        "id": "zJsWJ1l46aL4",
        "outputId": "ac557886-ce7e-4c95-96e2-b1f12e59092f"
      },
      "outputs": [
        {
          "output_type": "stream",
          "name": "stdout",
          "text": [
            "Detected encoding: ISO-8859-1\n",
            "                                                text        label\n",
            "0   Stuning even for the non-gamer: This sound tr...  __label__2 \n",
            "1   The best soundtrack ever to anything.: I'm re...  __label__2 \n",
            "2   Amazing!: This soundtrack is my favorite musi...  __label__2 \n",
            "3   Excellent Soundtrack: I truly like this sound...  __label__2 \n",
            "4   Remember, Pull Your Jaw Off The Floor After H...  __label__2 \n",
            "                                                text        label\n",
            "0   Stuning even for the non-gamer: This sound tr...  __label__2 \n",
            "1   The best soundtrack ever to anything.: I'm re...  __label__2 \n",
            "2   Amazing!: This soundtrack is my favorite musi...  __label__2 \n",
            "3   Excellent Soundtrack: I truly like this sound...  __label__2 \n",
            "4   Remember, Pull Your Jaw Off The Floor After H...  __label__2 \n",
            "Null values in each column:\n",
            " text     0\n",
            "label    0\n",
            "dtype: int64\n",
            "Accuracy: 0.8625\n",
            "Classification Report:\n",
            "               precision    recall  f1-score   support\n",
            "\n",
            " __label__1        0.86      0.87      0.87      1037\n",
            " __label__2        0.86      0.85      0.86       963\n",
            "\n",
            "    accuracy                           0.86      2000\n",
            "   macro avg       0.86      0.86      0.86      2000\n",
            "weighted avg       0.86      0.86      0.86      2000\n",
            "\n"
          ]
        }
      ],
      "source": [
        "import pandas as pd\n",
        "import numpy as np\n",
        "from sklearn.model_selection import train_test_split\n",
        "from sklearn.feature_extraction.text import TfidfVectorizer\n",
        "from sklearn.svm import SVC\n",
        "from sklearn.metrics import classification_report, accuracy_score\n",
        "\n",
        "\n",
        "import chardet\n",
        "\n",
        "file_path = '/content/corpusdata.csv'\n",
        "\n",
        "# Detect the file encoding\n",
        "with open(file_path, 'rb') as f:\n",
        "    result = chardet.detect(f.read())\n",
        "    encoding = result['encoding']\n",
        "\n",
        "print(f\"Detected encoding: {encoding}\")\n",
        "\n",
        "# Read the file with the detected encoding\n",
        "try:\n",
        "    data = pd.read_csv(file_path, encoding=encoding)\n",
        "    print(data.head())\n",
        "except Exception as e:\n",
        "    print(f\"Error reading with detected encoding '{encoding}': {e}\")\n",
        "\n",
        "\n",
        "# Display the first few rows of the dataset\n",
        "print(data.head())\n",
        "\n",
        "# Check for null values\n",
        "print(\"Null values in each column:\\n\", data.isnull().sum())\n",
        "\n",
        "# Assuming the CSV file has two columns: 'text' and 'label'\n",
        "# If your file has different column names, adjust accordingly\n",
        "text_data = data['text']\n",
        "labels = data['label']\n",
        "\n",
        "# Preprocessing the text data\n",
        "def preprocess_text(text):\n",
        "    # Convert text to lowercase\n",
        "    text = text.lower()\n",
        "    # Remove punctuation and non-alphanumeric characters\n",
        "    text = ''.join([char for char in text if char.isalnum() or char.isspace()])\n",
        "    return text\n",
        "\n",
        "text_data = text_data.apply(preprocess_text)\n",
        "\n",
        "# Vectorize the text data using TF-IDF\n",
        "vectorizer = TfidfVectorizer(max_features=5000)\n",
        "X = vectorizer.fit_transform(text_data).toarray()\n",
        "\n",
        "# Split the data into training and testing sets\n",
        "X_train, X_test, y_train, y_test = train_test_split(X, labels, test_size=0.2, random_state=42)\n",
        "\n",
        "# Train an SVM classifier\n",
        "svm = SVC(kernel='linear', random_state=42)\n",
        "svm.fit(X_train, y_train)\n",
        "\n",
        "# Predict on the test set\n",
        "y_pred = svm.predict(X_test)\n",
        "\n",
        "# Evaluate the classifier\n",
        "accuracy = accuracy_score(y_test, y_pred)\n",
        "report = classification_report(y_test, y_pred)\n",
        "\n",
        "print(f\"Accuracy: {accuracy}\")\n",
        "print(\"Classification Report:\\n\", report)\n"
      ]
    },
    {
      "cell_type": "code",
      "source": [],
      "metadata": {
        "id": "Zj2tk_7P7Uu3"
      },
      "execution_count": null,
      "outputs": []
    }
  ]
}
{
 "cells": [
  {
   "cell_type": "markdown",
   "metadata": {
    "id": "Y5y_HbJiPKhA"
   },
   "source": [
    "# Linear Regression\n",
    "## Question 1\n",
    "Make a class called LinearRegression which provides two functions : fit and predict. Try to implement it from scratch. If stuck, refer to the examples folder."
   ]
  },
  {
   "cell_type": "code",
   "execution_count": 79,
   "metadata": {
    "id": "gzoG2XilPLFr"
   },
   "outputs": [
    {
     "name": "stdout",
     "output_type": "stream",
     "text": [
      "(1, 1)\n",
      "(900,)\n"
     ]
    }
   ],
   "source": [
    "import numpy as np\n",
    "from sklearn.datasets import make_regression\n",
    "from sklearn.model_selection import train_test_split\n",
    "class LinearRegression:\n",
    "    def __init__(self, learning_rate, epochs):\n",
    "        self.lr=learning_rate\n",
    "        self.epochs = epochs\n",
    "    \n",
    "\n",
    "    def fit(self, X_train, y_train):\n",
    "        n_samples, n_features = X_train.shape\n",
    "        y_train=y_train.reshape(-1,1)\n",
    "        \n",
    "        self.weights = np.zeros((n_features,1))\n",
    "        self.bias = np.zeros((1,1))\n",
    "        print(self.weights.shape)\n",
    "\n",
    "        \n",
    "        for i in range(self.epochs):\n",
    "            delta= -(y_train-np.dot(X_train,self.weights)-self.bias)/n_samples\n",
    "            dw= np.dot(X_train.T,delta)\n",
    "            db= np.sum(delta).reshape(1,1)\n",
    "\n",
    "            #update weights and biases\n",
    "            self.weights-= self.lr * dw\n",
    "            self.bias-= self.lr* db\n",
    "\n",
    "    def predict(self, X_test):\n",
    "        y_predicted = np.dot(X_test,self.weights)+self.bias\n",
    "        #print(self.weights, self.bias)\n",
    "        return y_predicted\n",
    "#for e.g.\n",
    "X, y = make_regression(n_samples=1000, n_features=1, noise=10 )  \n",
    "X_train, X_test, y_train, y_test = train_test_split(X, y, test_size=0.1, random_state=42)\n",
    "lr_model = LinearRegression(0.001,2500)\n",
    "lr_model.fit(X_train, y_train)\n",
    "ypred = lr_model.predict(X_test)\n",
    "X_train.shape \n",
    "print(y_train.shape)"
   ]
  },
  {
   "cell_type": "markdown",
   "metadata": {
    "id": "PsqoxNag7D3-"
   },
   "source": [
    "## Question 2\n",
    "\n",
    "Use the dataset https://www.kaggle.com/datasets/quantbruce/real-estate-price-prediction (*).\n",
    "1. Read it using pandas.\n",
    "2. Check for **null values**.\n",
    "3. For each of the columns (except the first and last), plot the column values in the X-axis against the last column of prices in the Y-axis.\n",
    "4. Remove the unwanted columns.\n",
    "5. Split the dataset into train and test data. Test data size = 25% of total dataset.\n",
    "6. **Normalize** the X_train and X_test using MinMaxScaler from sklearn.preprocessing.\n",
    "7. Fit the training data into the model created in question 1 and predict the testing data.\n",
    "8. Use **mean square error and R<sup>2</sup>** from sklearn.metrics as evaluation criterias.\n",
    "9. Fit the training data into the models of the same name provided by sklearn.linear_model and evaluate the predictions using MSE and R<sup>2</sup>.\n",
    "10. Tune the hyperparameters of your models (learning rate, epochs) to achieve losses close to that of the sklearn models.\n",
    "\n",
    "Note : (*) To solve this question, you may proceed in any of the following ways :\n",
    "1. Prepare the notebook in Kaggle, download it and submit it separately with the other questions.\n",
    "2. Download the dataset from kaggle. Upload it to the session storage in Colab.\n",
    "3. Use Colab data directly in Colab. [Refer here](https://www.kaggle.com/general/74235). For this, you need to create kaggle API token. Before submitting, hide or remove the API token."
   ]
  },
  {
   "cell_type": "code",
   "execution_count": 80,
   "metadata": {
    "id": "8lupaMcr63QF"
   },
   "outputs": [
    {
     "data": {
      "text/plain": [
       "'\\ntransdate= df.loc[:/kaggle/input/real-estate-price-prediction/Real estate.csv\\nytarget=df.loc[:,\"Y house price of unit area\"]\\ntransdate1= transdate.copy()\\nytarget1= ytarget.copy()\\ntransdate1 = min_max_scaler.fit_transform(transdate1)\\nytarget1 = ytarget1.apply(lambda x: 0 if x.strip()==\\'N\\' else 1)\\nx1train= transdate1[:308]\\nx1test=transdate1[308:414]\\ny1train = ytarget1[:308]\\ny2test = ytarget1[308:414]\\n\\nplt.scatter(x1train,y1train)\\nplt.show()\\n'"
      ]
     },
     "execution_count": 80,
     "metadata": {},
     "output_type": "execute_result"
    }
   ],
   "source": [
    "import pandas as pd\n",
    "import matplotlib.pyplot as plt\n",
    "from sklearn import preprocessing\n",
    "min_max_scaler = preprocessing.MinMaxScaler()\n",
    "df = pd.read_csv(r\"C:\\Users\\Lenovo\\Downloads\\Real estate.csv\")\n",
    "df\n",
    "\"\"\"\n",
    "transdate= df.loc[:/kaggle/input/real-estate-price-prediction/Real estate.csv\n",
    "ytarget=df.loc[:,\"Y house price of unit area\"]\n",
    "transdate1= transdate.copy()\n",
    "ytarget1= ytarget.copy()\n",
    "transdate1 = min_max_scaler.fit_transform(transdate1)\n",
    "ytarget1 = ytarget1.apply(lambda x: 0 if x.strip()=='N' else 1)\n",
    "x1train= transdate1[:308]\n",
    "x1test=transdate1[308:414]\n",
    "y1train = ytarget1[:308]\n",
    "y2test = ytarget1[308:414]\n",
    "\n",
    "plt.scatter(x1train,y1train)\n",
    "plt.show()\n",
    "\"\"\"\n",
    "#leave this , i have done this on kaggle and file attached"
   ]
  },
  {
   "cell_type": "markdown",
   "metadata": {
    "id": "dQ7lQpy-SYCq"
   },
   "source": [
    "# Logistic Regression\n",
    "## Question 3\n",
    "\n",
    "The breast cancer dataset is a binary classification dataset commonly used in machine learning tasks. It is available in scikit-learn (sklearn) as part of its datasets module.\n",
    "Here is an explanation of the breast cancer dataset's components:\n",
    "\n",
    "* Features (X):\n",
    "\n",
    " * The breast cancer dataset consists of 30 numeric features representing different characteristics of the FNA images. These features include mean, standard error, and worst (largest) values of various attributes such as radius, texture, smoothness, compactness, concavity, symmetry, fractal dimension, etc.\n",
    "\n",
    "* Target (y):\n",
    "\n",
    " * The breast cancer dataset is a binary classification problem, and the target variable (y) represents the diagnosis of the breast mass. It contains two classes:\n",
    "    * 0: Represents a malignant (cancerous) tumor.\n",
    "    * 1: Represents a benign (non-cancerous) tumor.\n",
    "\n",
    "Complete the code given below in place of the \"...\""
   ]
  },
  {
   "cell_type": "markdown",
   "metadata": {
    "id": "auipk-zBpmO-"
   },
   "source": [
    "1. Load the dataset from sklearn.datasets\n",
    "2. Separate out the X and Y columns.\n",
    "3. Normalize the X data using MinMaxScaler or StandardScaler.\n",
    "4. Create a train-test-split. Take any suitable test size."
   ]
  },
  {
   "cell_type": "code",
   "execution_count": 31,
   "metadata": {
    "id": "0OyGNHNjFh13"
   },
   "outputs": [],
   "source": [
    "from sklearn import datasets\n",
    "import numpy as np\n",
    "from sklearn import preprocessing\n",
    "import pandas as pd\n",
    "bc= datasets.load_breast_cancer()\n",
    "X= bc[\"data\"]\n",
    "y=bc[\"target\"]\n",
    "scalar = preprocessing.MinMaxScaler()\n",
    "X1= scalar.fit_transform(X)\n",
    "X1train= X1[:400]\n",
    "ytrain=y[:400]\n",
    "X1test=X1[400:]\n",
    "ytest=y[400:]"
   ]
  },
  {
   "cell_type": "markdown",
   "metadata": {
    "id": "uM-SsSxpqF2o"
   },
   "source": [
    "5. Write code for the sigmoid function and Logistic regression.\n"
   ]
  },
  {
   "cell_type": "code",
   "execution_count": 32,
   "metadata": {
    "id": "o81LA5MZFoTW"
   },
   "outputs": [],
   "source": [
    "def sigmoid(z):\n",
    "   import math\n",
    "   y= 1/(1+ np.exp(-z))\n",
    "   return y\n",
    "\n",
    "def sigmoid_derivative(z):\n",
    "    import math\n",
    "    y1 = np.exp(-z)/((1+ np.exp(-z))**2)\n",
    "    return y1\n",
    "\n",
    "class LogisticRegression:\n",
    "    def __init__(self, learning_rate, epochs):\n",
    "      #Initialise the hyperparameters of the model\n",
    "        self.lr = learning_rate\n",
    "        self.epochs = epochs\n",
    "\n",
    "    def fit(self, X, y):\n",
    "        n_samples, n_features = X.shape\n",
    "        y = y.reshape(-1, 1)\n",
    "        self.weights = np.random.randn(n_features,1)/np.sqrt(n_features)\n",
    "        self.bias = np.random.randn(1,1)\n",
    "\n",
    "\n",
    "        #Implement the GD algortihm\n",
    "        for _ in range(self.epochs):\n",
    "            z = np.dot(X,self.weights) + self.bias\n",
    "            y_pred = sigmoid(z)\n",
    "\n",
    "            dw = -np.dot(X.T,(y - y_pred))/n_samples\n",
    "            db = -np.sum(y - y_pred)/n_samples\n",
    "\n",
    "            self.weights -= self.lr* dw\n",
    "            self.bias -= self.lr* db\n",
    "\n",
    "    def predict(self, X):\n",
    "        y_pred = np.dot(X,self.weights)+self.bias\n",
    "\n",
    "        for i in range(len(y_pred)):\n",
    "            if y_pred[i]<= 0.5:\n",
    "                y_pred[i] = 0\n",
    "            else:\n",
    "                y_pred[i] = 1   \n",
    "        \n",
    "        return y_pred"
   ]
  },
  {
   "cell_type": "markdown",
   "metadata": {
    "id": "Uo9LNRMzq4K-"
   },
   "source": [
    "6. Fit your model on the dataset and make predictions.\n",
    "7. Compare your model with the Sklearn Logistic Regression model. Try out all the different penalties.\n",
    "8. Print accuracy_score in each case using sklearn.metrics ."
   ]
  },
  {
   "cell_type": "code",
   "execution_count": 48,
   "metadata": {
    "id": "DyGsTTOqFphf"
   },
   "outputs": [
    {
     "name": "stdout",
     "output_type": "stream",
     "text": [
      "sklearn has better\n"
     ]
    },
    {
     "data": {
      "text/plain": [
       "0.9822485207100592"
      ]
     },
     "execution_count": 48,
     "metadata": {},
     "output_type": "execute_result"
    }
   ],
   "source": [
    "clf = LogisticRegression()\n",
    "clf.fit(X1train,ytrain)\n",
    "\n",
    "pred= clf.predict(X1test)\n",
    "def cost_fn(pred,m):\n",
    "    eps = 1e-07\n",
    "    left = np.sum((pred*np.log(pred+eps)))\n",
    "    right = np.sum((1-pred)*np.log(1-pred+eps))\n",
    "    cost = -1*(left+right)/m\n",
    "    return cost\n",
    "\n",
    "from sklearn.linear_model import LogisticRegression\n",
    "clf1 = LogisticRegression()\n",
    "clf1.fit(X1train, ytrain)\n",
    "pred1 = clf1.predict(X1test)\n",
    "prob = clf1.predict_proba(X1test)\n",
    "\n",
    "if cost_fn(pred,len(X1test)) < cost_fn(pred1,len(X1test)):\n",
    "    print(\"ours is better\")\n",
    "else : print(\"sklearn has better\")\n",
    "from sklearn import metrics\n",
    "\n",
    "matrix = (metrics.confusion_matrix(ytest, pred))\n",
    "acc = (matrix[0,0] + matrix[1,1])/( matrix[0,0]+ matrix[0,1]+ matrix[1,1]+ matrix[1,0])\n",
    "acc"
   ]
  },
  {
   "cell_type": "markdown",
   "metadata": {
    "id": "AGBkzAO5red4"
   },
   "source": [
    "9. For the best model in each case (yours and scikit-learn), print the classification_report using sklearn.metrics .\n",
    "10. For the best model in each case (yours and scikit-learn), print the confusion_matrix using sklearn.metrics ."
   ]
  },
  {
   "cell_type": "code",
   "execution_count": 55,
   "metadata": {
    "id": "le-HfABsvnyF"
   },
   "outputs": [
    {
     "data": {
      "text/plain": [
       "array([[ 38,   1],\n",
       "       [  2, 128]], dtype=int64)"
      ]
     },
     "execution_count": 55,
     "metadata": {},
     "output_type": "execute_result"
    }
   ],
   "source": [
    "from sklearn.metrics import accuracy_score , confusion_matrix \n",
    "confusion_matrix(ytest, pred1)\n"
   ]
  },
  {
   "cell_type": "code",
   "execution_count": 58,
   "metadata": {},
   "outputs": [
    {
     "name": "stdout",
     "output_type": "stream",
     "text": [
      "              precision    recall  f1-score   support\n",
      "\n",
      "       tumor       0.95      0.97      0.96        39\n",
      "   non-tumor       0.99      0.98      0.99       130\n",
      "\n",
      "    accuracy                           0.98       169\n",
      "   macro avg       0.97      0.98      0.98       169\n",
      "weighted avg       0.98      0.98      0.98       169\n",
      "\n"
     ]
    }
   ],
   "source": [
    "from sklearn.metrics import classification_report\n",
    "target_names = ['tumor', 'non-tumor']\n",
    "print(classification_report(ytest, pred1, target_names=target_names))\n",
    "#done"
   ]
  },
  {
   "cell_type": "markdown",
   "metadata": {
    "id": "6OQ2tSp0MO6n"
   },
   "source": [
    "# KNN\n",
    "## Question 4\n",
    "\n",
    "How accurately can a K-Nearest Neighbors (KNN) model classify different types of glass based on a glass classification dataset consisting of 214 samples and 7 classes? Use the kaggle dataset \"https://www.kaggle.com/datasets/uciml/glass\".\n",
    "\n",
    "Context: This is a Glass Identification Data Set from UCI. It contains 10 attributes including id. The response is glass type(discrete 7 values)"
   ]
  },
  {
   "cell_type": "markdown",
   "metadata": {
    "id": "iMGxbtX-zfsI"
   },
   "source": [
    "1. Load the data as you did in the 2nd question.\n",
    "2. Extract the X and Y columns.\n",
    "3. Split it into training and testing datasets."
   ]
  },
  {
   "cell_type": "code",
   "execution_count": 62,
   "metadata": {
    "id": "p0SfLB7pO7_z"
   },
   "outputs": [],
   "source": [
    "#have attached kaggle file for this."
   ]
  },
  {
   "cell_type": "markdown",
   "metadata": {
    "id": "qtyZJXh9zoh5"
   },
   "source": [
    "4. Define Euclidean distance.\n",
    "5. Build the KNN model.\n",
    "6. Fit the model on the training data. (Note : you may require to change the type of the data from pandas dataframe to numpy arrays. To do that, just do this X=np.array(X) and so on...)"
   ]
  },
  {
   "cell_type": "code",
   "execution_count": null,
   "metadata": {
    "id": "YJkhLORLzn6r"
   },
   "outputs": [],
   "source": []
  },
  {
   "cell_type": "markdown",
   "metadata": {
    "id": "E9rxZpPB0pVS"
   },
   "source": [
    "7. Make predictions. Find their accuracy using accuracy_score. Try different k values. k=3 worked well in our case.\n",
    "8. Compare with the sklearn model (from sklearn.neighbors import KNeighborsClassifier)"
   ]
  },
  {
   "cell_type": "code",
   "execution_count": null,
   "metadata": {
    "id": "ernfjaZJ0pAh"
   },
   "outputs": [],
   "source": []
  },
  {
   "cell_type": "code",
   "execution_count": null,
   "metadata": {
    "id": "h2tZQg4L09wn"
   },
   "outputs": [],
   "source": []
  }
 ],
 "metadata": {
  "colab": {
   "provenance": []
  },
  "kernelspec": {
   "display_name": "Python 3 (ipykernel)",
   "language": "python",
   "name": "python3"
  },
  "language_info": {
   "codemirror_mode": {
    "name": "ipython",
    "version": 3
   },
   "file_extension": ".py",
   "mimetype": "text/x-python",
   "name": "python",
   "nbconvert_exporter": "python",
   "pygments_lexer": "ipython3",
   "version": "3.12.3"
  }
 },
 "nbformat": 4,
 "nbformat_minor": 4
}
